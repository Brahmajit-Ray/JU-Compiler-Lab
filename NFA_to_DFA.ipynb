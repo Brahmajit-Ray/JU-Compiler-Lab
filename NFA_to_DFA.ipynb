{
 "cells": [
  {
   "cell_type": "code",
   "execution_count": 14,
   "id": "524f6728-5313-45e6-932a-ac785f092cd4",
   "metadata": {},
   "outputs": [],
   "source": [
    "import networkx as nx\n",
    "import matplotlib.pyplot as plt\n",
    "from collections import defaultdict\n",
    "from collections import deque\n",
    "import matplotlib.patches as patches\n",
    "from matplotlib import style"
   ]
  },
  {
   "cell_type": "code",
   "execution_count": 45,
   "id": "09386fa2-50ee-4ac5-9ea6-4bff1dfebfbd",
   "metadata": {},
   "outputs": [],
   "source": [
    "class NFA:\n",
    "    def __init__(self,input_file):\n",
    "        self._generate_graph(input_file)\n",
    "\n",
    "    def _generate_graph(self,input_file):\n",
    "        f=open(input_file)\n",
    "        lines=f.readlines()\n",
    "        lines[-1]+=\"\\n\"\n",
    "        \n",
    "        states,alphabet,start_state,final_states=lines[:4]\n",
    "        \n",
    "        self.states=states[:-1].split()\n",
    "        self.alphabet=alphabet[:-1].split()\n",
    "        self.start_state=start_state[:-1]\n",
    "        self.final_states=final_states[:-1].split()\n",
    "\n",
    "        self.dead_states=[]\n",
    "        self.transitions=defaultdict(list)\n",
    "\n",
    "        for line in lines[4:]:\n",
    "            current_state,symbol,next_state=line[:-1].split()\n",
    "            self.transitions[(current_state,symbol)].append(next_state)\n",
    "\n",
    "    def generate_key(self,l):\n",
    "        return tuple(sorted(list(set(l))))\n",
    "\n",
    "    def find_transition(self,node,symbol):\n",
    "        temp=[]\n",
    "        for subnode in node:\n",
    "            temp.extend(self.transitions[(subnode,symbol)])\n",
    "        return self.generate_key(temp)\n",
    "            \n",
    "    def convert(self):\n",
    "        new_transitions=defaultdict(list)\n",
    "        new_states=[tuple(self.start_state)]\n",
    "        queue=deque()\n",
    "        queue.append(tuple(self.start_state))\n",
    "        visited=set()\n",
    "        \n",
    "        count=0 #\n",
    "        while queue and count<10: #\n",
    "            print(queue)  #\n",
    "            count+=1      #\n",
    "            node=queue.popleft()\n",
    "            visited.add(self.generate_key(node))\n",
    "            for symbol in self.alphabet:\n",
    "                transition=self.find_transition(node,symbol)\n",
    "                if transition not in visited:\n",
    "                    queue.append(transition)\n",
    "                    new_states.append(transition)\n",
    "                new_transitions[(node,symbol)]=transition\n",
    "\n",
    "        self.transitions=new_transitions\n",
    "        self.states=new_states\n",
    "        finals=[]\n",
    "        for state in new_states:\n",
    "            for final in self.final_states:\n",
    "                if final in state:\n",
    "                    finals.append(state)\n",
    "                    break\n",
    "        self.final_states=finals\n",
    "        self.start_state=tuple(self.start_state)\n",
    "        return self.states\n",
    "\n",
    "    def print_transitions(self):\n",
    "        for key,val in self.transitions.items():\n",
    "            print(f\"{key}:{val}\")\n",
    "\n",
    "    def plot(self):\n",
    "        graph=nx.MultiDiGraph()\n",
    "        for state in self.states:\n",
    "            graph.add_node(state,shape=\"circle\")\n",
    "\n",
    "        edges=defaultdict(list)\n",
    "        for key,value in self.transitions.items():\n",
    "            edges[(key[0],value)].append(key[1])\n",
    "    \n",
    "        for key,value in edges.items():\n",
    "            graph.add_edge(key[0],key[1],label=\",\".join(value))\n",
    "\n",
    "        pos=nx.spring_layout(graph)\n",
    "        nx.draw(graph,pos,with_labels=True,node_size=2000,arrows=True)\n",
    "        nx.draw_networkx_edge_labels(graph, pos,edge_labels=edges, connectionstyle='arc3,rad=0.1')\n",
    "        #nx.draw_networkx_edge_labels(graph, pos, edge_labels=edges,connectionstyle='arc3, rad = 0.1')\n",
    "        nx.draw_networkx_nodes(graph, pos, nodelist=[self.start_state], node_color='lightgreen', node_size=2000)\n",
    "        nx.draw_networkx_nodes(graph, pos, nodelist=self.final_states, node_color='yellow', node_size=2000)\n",
    "\n",
    "        #plt.legend([\"Start State\",\"Final State\"])\n",
    "        plt.show()"
   ]
  },
  {
   "cell_type": "code",
   "execution_count": 46,
   "id": "85d71824-b2c2-4a7f-88fc-4ac112c202f5",
   "metadata": {},
   "outputs": [],
   "source": [
    "nfa=NFA(\"NFA_Input.txt\")"
   ]
  },
  {
   "cell_type": "code",
   "execution_count": 47,
   "id": "43fbfe94-5ddf-4587-80e2-f253843448f5",
   "metadata": {},
   "outputs": [
    {
     "data": {
      "text/plain": [
       "'0'"
      ]
     },
     "execution_count": 47,
     "metadata": {},
     "output_type": "execute_result"
    }
   ],
   "source": [
    "nfa.start_state"
   ]
  },
  {
   "cell_type": "code",
   "execution_count": 48,
   "id": "436f6f18-905c-4b51-a47c-5afcdc408a40",
   "metadata": {},
   "outputs": [
    {
     "name": "stdout",
     "output_type": "stream",
     "text": [
      "('0', 'a'):['0', '1']\n",
      "('0', 'b'):['0']\n",
      "('1', 'b'):['2']\n"
     ]
    }
   ],
   "source": [
    "nfa.print_transitions()"
   ]
  },
  {
   "cell_type": "code",
   "execution_count": 49,
   "id": "633947b0-eddf-4d7e-b229-9ef10415a460",
   "metadata": {},
   "outputs": [
    {
     "name": "stdout",
     "output_type": "stream",
     "text": [
      "deque([('0',)])\n",
      "deque([('0', '1')])\n",
      "deque([('0', '2')])\n"
     ]
    },
    {
     "data": {
      "text/plain": [
       "[('0',), ('0', '1'), ('0', '2')]"
      ]
     },
     "execution_count": 49,
     "metadata": {},
     "output_type": "execute_result"
    }
   ],
   "source": [
    "nfa.convert()"
   ]
  },
  {
   "cell_type": "code",
   "execution_count": 50,
   "id": "d1939687-47db-41a8-a1f0-00427078d4c2",
   "metadata": {},
   "outputs": [
    {
     "name": "stdout",
     "output_type": "stream",
     "text": [
      "(('0',), 'a'):('0', '1')\n",
      "(('0',), 'b'):('0',)\n",
      "(('0', '1'), 'a'):('0', '1')\n",
      "(('0', '1'), 'b'):('0', '2')\n",
      "(('0', '2'), 'a'):('0', '1')\n",
      "(('0', '2'), 'b'):('0',)\n"
     ]
    }
   ],
   "source": [
    "nfa.print_transitions()"
   ]
  },
  {
   "cell_type": "code",
   "execution_count": 51,
   "id": "6b052a89-002c-4a75-b85e-868eeef5260b",
   "metadata": {},
   "outputs": [
    {
     "data": {
      "text/plain": [
       "[('0', '2')]"
      ]
     },
     "execution_count": 51,
     "metadata": {},
     "output_type": "execute_result"
    }
   ],
   "source": [
    "nfa.final_states"
   ]
  },
  {
   "cell_type": "code",
   "execution_count": 52,
   "id": "cb573a40-993d-4afb-b73d-f976dd793572",
   "metadata": {},
   "outputs": [
    {
     "data": {
      "text/plain": [
       "('0',)"
      ]
     },
     "execution_count": 52,
     "metadata": {},
     "output_type": "execute_result"
    }
   ],
   "source": [
    "nfa.start_state"
   ]
  },
  {
   "cell_type": "code",
   "execution_count": 53,
   "id": "f1ae4eac-e065-4e48-9298-1544dc1ce6eb",
   "metadata": {},
   "outputs": [
    {
     "data": {
      "image/png": "[encoded data removed]",
      "text/plain": [
       "<Figure size 640x480 with 1 Axes>"
      ]
     },
     "metadata": {},
     "output_type": "display_data"
    }
   ],
   "source": [
    "nfa.plot()"
   ]
  },
  {
   "cell_type": "code",
   "execution_count": null,
   "id": "bbd36d98-fb11-4075-9cc1-e9e6d8413377",
   "metadata": {},
   "outputs": [],
   "source": []
  },
  {
   "cell_type": "code",
   "execution_count": null,
   "id": "c2b2b5bd-519d-47e0-8161-117cb30a9c5d",
   "metadata": {},
   "outputs": [],
   "source": []
  },
  {
   "cell_type": "code",
   "execution_count": null,
   "id": "011a6406-dc8e-4f9c-92a4-0081b18a39cd",
   "metadata": {},
   "outputs": [],
   "source": []
  },
  {
   "cell_type": "code",
   "execution_count": 54,
   "id": "d4d5a0e9-a7cc-4ee9-bad8-7154be940580",
   "metadata": {},
   "outputs": [],
   "source": [
    "nfa2=NFA(\"NFA_Input2.txt\")"
   ]
  },
  {
   "cell_type": "code",
   "execution_count": 55,
   "id": "33455e51-91e8-4398-b3ba-5bfe7e8198b0",
   "metadata": {},
   "outputs": [
    {
     "name": "stdout",
     "output_type": "stream",
     "text": [
      "('0', 'a'):['0']\n",
      "('0', 'b'):['1']\n",
      "('1', 'a'):['1', '2']\n",
      "('1', 'b'):['1']\n",
      "('2', 'a'):['2']\n",
      "('2', 'b'):['2', '1']\n"
     ]
    }
   ],
   "source": [
    "nfa2.print_transitions()"
   ]
  },
  {
   "cell_type": "code",
   "execution_count": 56,
   "id": "e82ea40e-59d9-4f96-966e-1a525db3ce42",
   "metadata": {},
   "outputs": [
    {
     "name": "stdout",
     "output_type": "stream",
     "text": [
      "deque([('0',)])\n",
      "deque([('1',)])\n",
      "deque([('1', '2')])\n"
     ]
    },
    {
     "data": {
      "text/plain": [
       "[('0',), ('1',), ('1', '2')]"
      ]
     },
     "execution_count": 56,
     "metadata": {},
     "output_type": "execute_result"
    }
   ],
   "source": [
    "nfa2.convert()"
   ]
  },
  {
   "cell_type": "code",
   "execution_count": 57,
   "id": "35a7e73d-c47a-48f3-9889-814871c1c04a",
   "metadata": {},
   "outputs": [
    {
     "name": "stdout",
     "output_type": "stream",
     "text": [
      "(('0',), 'a'):('0',)\n",
      "(('0',), 'b'):('1',)\n",
      "(('1',), 'a'):('1', '2')\n",
      "(('1',), 'b'):('1',)\n",
      "(('1', '2'), 'a'):('1', '2')\n",
      "(('1', '2'), 'b'):('1', '2')\n"
     ]
    }
   ],
   "source": [
    "nfa2.print_transitions()"
   ]
  },
  {
   "cell_type": "code",
   "execution_count": 58,
   "id": "e32a8a12-2974-43e2-a6b4-d1e52f922a78",
   "metadata": {},
   "outputs": [
    {
     "data": {
      "image/png": "[encoded data removed]",
      "text/plain": [
       "<Figure size 640x480 with 1 Axes>"
      ]
     },
     "metadata": {},
     "output_type": "display_data"
    }
   ],
   "source": [
    "nfa2.plot()"
   ]
  },
  {
   "cell_type": "code",
   "execution_count": null,
   "id": "120156d8-40d4-444c-a491-241879753bf4",
   "metadata": {},
   "outputs": [],
   "source": []
  }
 ],
 "metadata": {
  "kernelspec": {
   "display_name": "Python 3 (ipykernel)",
   "language": "python",
   "name": "python3"
  },
  "language_info": {
   "codemirror_mode": {
    "name": "ipython",
    "version": 3
   },
   "file_extension": ".py",
   "mimetype": "text/x-python",
   "name": "python",
   "nbconvert_exporter": "python",
   "pygments_lexer": "ipython3",
   "version": "3.11.7"
  }
 },
 "nbformat": 4,
 "nbformat_minor": 5
}
