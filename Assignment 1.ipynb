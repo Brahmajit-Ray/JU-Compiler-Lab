{
 "cells": [
  {
   "cell_type": "markdown",
   "id": "6d697c26-fdee-4fb1-a835-9d64afe24f6a",
   "metadata": {},
   "source": [
    "##### Program to design a Finite Automata which accepts all strings having even \n",
    "number of 0 OR even number of 1. {Consider only string having 0s and 1s}.\r\n"
   ]
  },
  {
   "cell_type": "code",
   "execution_count": 1,
   "id": "6f8491a2-1910-455e-beec-a86b2489f529",
   "metadata": {},
   "outputs": [],
   "source": [
    "states=[\"S_00\",\"S_01\",\"S_10\",\"S_11\"]"
   ]
  },
  {
   "cell_type": "code",
   "execution_count": 2,
   "id": "77e4fdb0-d059-4acf-8db7-4e608edc5880",
   "metadata": {},
   "outputs": [],
   "source": [
    "transitions={\n",
    "    (\"S_00\",\"0\"):\"S_10\",\n",
    "    (\"S_00\",\"1\"):\"S_01\",\n",
    "    (\"S_01\",\"0\"):\"S_11\",\n",
    "    (\"S_01\",\"1\"):\"S_00\",\n",
    "    (\"S_10\",\"0\"):\"S_00\",\n",
    "    (\"S_10\",\"1\"):\"S_11\",\n",
    "    (\"S_11\",\"0\"):\"S_01\",\n",
    "    (\"S_11\",\"1\"):\"S_10\"\n",
    "}"
   ]
  },
  {
   "cell_type": "code",
   "execution_count": 6,
   "id": "a77a93a1-a885-466c-83e6-2fcd17998367",
   "metadata": {},
   "outputs": [],
   "source": [
    "start_state=\"S_00\""
   ]
  },
  {
   "cell_type": "code",
   "execution_count": 10,
   "id": "3cd7bce8-fd7d-4ec5-adbd-fac4a45b8471",
   "metadata": {},
   "outputs": [],
   "source": [
    "final_states=[\"S_00\",\"S_01\",\"S_10\"]"
   ]
  },
  {
   "cell_type": "code",
   "execution_count": 9,
   "id": "a3ac056a-f48f-4850-a373-5f25b42456dc",
   "metadata": {},
   "outputs": [],
   "source": [
    "def accept_string(s):\n",
    "    current_state=start_state\n",
    "    for i in range(len(s)):\n",
    "        print(current_state,s[i])\n",
    "        current_state=transitions[(current_state,s[i])]\n",
    "\n",
    "    return current_state in final_states"
   ]
  },
  {
   "cell_type": "code",
   "execution_count": 18,
   "id": "3ff74bea-1c0e-4934-a7b5-1cbaccdeceda",
   "metadata": {},
   "outputs": [
    {
     "name": "stdout",
     "output_type": "stream",
     "text": [
      "S_00 0\n",
      "S_10 0\n",
      "S_00 0\n",
      "S_10 1\n",
      "S_11 0\n",
      "S_01 0\n"
     ]
    },
    {
     "data": {
      "text/plain": [
       "False"
      ]
     },
     "execution_count": 18,
     "metadata": {},
     "output_type": "execute_result"
    }
   ],
   "source": [
    "accept_string(\"000100\")"
   ]
  },
  {
   "cell_type": "code",
   "execution_count": 17,
   "id": "6709b69f-293d-45d4-8665-258d9ed4eb72",
   "metadata": {},
   "outputs": [
    {
     "name": "stdout",
     "output_type": "stream",
     "text": [
      "S_00 0\n",
      "S_10 0\n",
      "S_00 0\n"
     ]
    },
    {
     "data": {
      "text/plain": [
       "True"
      ]
     },
     "execution_count": 17,
     "metadata": {},
     "output_type": "execute_result"
    }
   ],
   "source": [
    "accept_string(\"000\")"
   ]
  },
  {
   "cell_type": "code",
   "execution_count": null,
   "id": "2cf0aba6-58fd-45bb-b6d5-d402d75f4e1c",
   "metadata": {},
   "outputs": [],
   "source": []
  },
  {
   "cell_type": "markdown",
   "id": "cb1b26a1-0f8c-412a-b73d-bcc83e7eab97",
   "metadata": {},
   "source": [
    "##### Program to design a Finie Automata that accepts all strings of length 3."
   ]
  },
  {
   "cell_type": "code",
   "execution_count": 19,
   "id": "bd6fd95d-e69e-4e38-badc-49f75a9b1d1e",
   "metadata": {},
   "outputs": [],
   "source": [
    "states=[\"S0\",\"S1\",\"S2\",\"S3\",\"S4\"]"
   ]
  },
  {
   "cell_type": "code",
   "execution_count": 20,
   "id": "64002c13-2da2-4375-92e9-6b353703cc0f",
   "metadata": {},
   "outputs": [],
   "source": [
    "transitions={\n",
    "    (\"S0\",\"0\"):\"S1\",\n",
    "    (\"S0\",\"1\"):\"S1\",\n",
    "    (\"S1\",\"0\"):\"S2\",\n",
    "    (\"S1\",\"1\"):\"S2\",\n",
    "    (\"S2\",\"0\"):\"S3\",\n",
    "    (\"S2\",\"1\"):\"S3\",\n",
    "    (\"S3\",\"0\"):\"S4\",\n",
    "    (\"S3\",\"1\"):\"S4\"\n",
    "}"
   ]
  },
  {
   "cell_type": "code",
   "execution_count": 21,
   "id": "cd36b7fa-84ce-4822-91cb-00a9f2a5640f",
   "metadata": {},
   "outputs": [],
   "source": [
    "start_state=\"S0\""
   ]
  },
  {
   "cell_type": "code",
   "execution_count": 22,
   "id": "850e0102-98e3-42c7-ba8f-a18f9a908e05",
   "metadata": {},
   "outputs": [],
   "source": [
    "final_states=[\"S3\"]"
   ]
  },
  {
   "cell_type": "code",
   "execution_count": 26,
   "id": "d1b2d42e-ac7e-4cfa-91c0-500d232445bc",
   "metadata": {},
   "outputs": [],
   "source": [
    "def accept_string(s):\n",
    "    current_state=start_state\n",
    "    for i in range(len(s)):\n",
    "        print(current_state,s[i])\n",
    "        current_state=transitions[(current_state,s[i])]\n",
    "    print(f\"Last state:{current_state}\")\n",
    "    return current_state in final_states"
   ]
  },
  {
   "cell_type": "code",
   "execution_count": 27,
   "id": "5dda1d73-4b9d-4d71-8dd1-470b1377211a",
   "metadata": {},
   "outputs": [
    {
     "name": "stdout",
     "output_type": "stream",
     "text": [
      "S0 0\n",
      "S1 0\n",
      "S2 0\n",
      "S3 1\n",
      "Last state:S4\n"
     ]
    },
    {
     "data": {
      "text/plain": [
       "False"
      ]
     },
     "execution_count": 27,
     "metadata": {},
     "output_type": "execute_result"
    }
   ],
   "source": [
    "accept_string(\"0001\")"
   ]
  },
  {
   "cell_type": "code",
   "execution_count": 28,
   "id": "14e4d36f-304b-4973-ad88-1317ef9b0721",
   "metadata": {},
   "outputs": [
    {
     "name": "stdout",
     "output_type": "stream",
     "text": [
      "S0 0\n",
      "S1 1\n",
      "S2 1\n",
      "Last state:S3\n"
     ]
    },
    {
     "data": {
      "text/plain": [
       "True"
      ]
     },
     "execution_count": 28,
     "metadata": {},
     "output_type": "execute_result"
    }
   ],
   "source": [
    "accept_string(\"011\")"
   ]
  },
  {
   "cell_type": "code",
   "execution_count": 29,
   "id": "4d34bbc2-d6e4-44db-ab4a-e05191203f14",
   "metadata": {},
   "outputs": [
    {
     "name": "stdout",
     "output_type": "stream",
     "text": [
      "S0 0\n",
      "S1 1\n",
      "Last state:S2\n"
     ]
    },
    {
     "data": {
      "text/plain": [
       "False"
      ]
     },
     "execution_count": 29,
     "metadata": {},
     "output_type": "execute_result"
    }
   ],
   "source": [
    "accept_string(\"01\")"
   ]
  },
  {
   "cell_type": "code",
   "execution_count": null,
   "id": "8a93259a-035a-4c6c-97a1-931315cd4b34",
   "metadata": {},
   "outputs": [],
   "source": []
  }
 ],
 "metadata": {
  "kernelspec": {
   "display_name": "Python 3 (ipykernel)",
   "language": "python",
   "name": "python3"
  },
  "language_info": {
   "codemirror_mode": {
    "name": "ipython",
    "version": 3
   },
   "file_extension": ".py",
   "mimetype": "text/x-python",
   "name": "python",
   "nbconvert_exporter": "python",
   "pygments_lexer": "ipython3",
   "version": "3.11.7"
  }
 },
 "nbformat": 4,
 "nbformat_minor": 5
}
